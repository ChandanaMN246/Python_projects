{
 "cells": [
  {
   "cell_type": "code",
   "execution_count": 4,
   "id": "6dc22ecb",
   "metadata": {},
   "outputs": [],
   "source": [
    "#import modules\n",
    "\n",
    "from plyer import notification \n",
    "import psutil\n",
    "\n",
    "#returns a tuple\n",
    "battery = psutil.sensors_battery()\n",
    "\n",
    "plugged = battery.power_plugged\n",
    "\n",
    "#description of code\n",
    "if __name__==\"__main__\": \n",
    "    if plugged:\n",
    "        percent = battery.percent\n",
    "        if percent <= 80:\n",
    "            notification.notify( \n",
    "            #title of notification\n",
    "            title = \"Plugged In\", \n",
    "\n",
    "            #message of notification\n",
    "            message=\" For better battery life, charge upto 80%\" , \n",
    "            \n",
    "            # displaying time \n",
    "            timeout=2 \n",
    "            )\n",
    "           \n",
    "        elif percent == 100: \n",
    "            notification.notify( \n",
    "            title = \"Plugged In\", \n",
    "            message=\" Please plugged out the charger. Battery is charged\" , \n",
    "            timeout=2 \n",
    "            )\n",
    "           \n",
    "        else :\n",
    "            notification.notify( \n",
    "            title = \"Plugged In\", \n",
    "            message=\" Remove the charger please. For better battery life charge up to 80%\" , \n",
    "            timeout=2 \n",
    "            )\n",
    "\n",
    "    else:\n",
    "        percent = battery.percent\n",
    "        if percent <=20:\n",
    "            notification.notify( \n",
    "            title = \"Battery Reminder\", \n",
    "            message=\"Your battery is running low. You might want to plug in your PC \" , \n",
    "            timeout=2 \n",
    "            )\n",
    "       \n",
    "        elif percent <=50:\n",
    "            notification.notify( \n",
    "            title = \"Battery Reminder\", \n",
    "            message=f\" Battery is {percent}.\" ,\n",
    "            timeout=2 \n",
    "            )\n",
    "        \n",
    "        elif percent == 100:\n",
    "            notification.notify( \n",
    "            title = \"Battery Reminder\", \n",
    "            message=\"Fully charged\" , \n",
    "            timeout=2 \n",
    "            )\n",
    "\n",
    "        else:\n",
    "            notification.notify( \n",
    "            title = \"Battery Reminder\", \n",
    "            message=f\"Battery is {percent}\" , \n",
    "            timeout=2 \n",
    "            )"
   ]
  },
  {
   "cell_type": "code",
   "execution_count": 2,
   "id": "7bf9677e",
   "metadata": {},
   "outputs": [
    {
     "name": "stdout",
     "output_type": "stream",
     "text": [
      "Collecting plyerNote: you may need to restart the kernel to use updated packages.\n",
      "  Downloading plyer-2.0.0-py2.py3-none-any.whl (131 kB)\n",
      "Installing collected packages: plyer\n",
      "Successfully installed plyer-2.0.0\n",
      "\n"
     ]
    }
   ],
   "source": [
    "pip install plyer"
   ]
  },
  {
   "cell_type": "code",
   "execution_count": null,
   "id": "149ea4a1",
   "metadata": {},
   "outputs": [],
   "source": []
  }
 ],
 "metadata": {
  "kernelspec": {
   "display_name": "Python 3 (ipykernel)",
   "language": "python",
   "name": "python3"
  },
  "language_info": {
   "codemirror_mode": {
    "name": "ipython",
    "version": 3
   },
   "file_extension": ".py",
   "mimetype": "text/x-python",
   "name": "python",
   "nbconvert_exporter": "python",
   "pygments_lexer": "ipython3",
   "version": "3.9.12"
  }
 },
 "nbformat": 4,
 "nbformat_minor": 5
}
