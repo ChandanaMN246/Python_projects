{
 "cells": [
  {
   "cell_type": "code",
   "execution_count": 2,
   "id": "ee7960f6",
   "metadata": {},
   "outputs": [],
   "source": [
    "import turtle as t"
   ]
  },
  {
   "cell_type": "code",
   "execution_count": 17,
   "id": "738c9d3d",
   "metadata": {},
   "outputs": [],
   "source": [
    "#t.speed(100)\n",
    "t.bgcolor('#fb3958')\n",
    "t.pencolor('white')\n",
    "t.pensize(10)\n",
    "t.penup()\n",
    "t.goto(100,100)\n",
    "t.pendown()\n",
    "t.left(180)\n",
    "def border():\n",
    "    t.forward(150)\n",
    "    for i in range(90):\n",
    "        t.forward(1)\n",
    "        t.left(1)\n",
    "\n",
    "border()\n",
    "border()\n",
    "border()\n",
    "border()\n",
    "\n",
    "t.penup()\n",
    "\n",
    "# Creating A Horizontal Line and One Diagonal Line\n",
    "for i in range(90):\n",
    "    t.backward(1)\n",
    "    t.right(1)\n",
    "t.left(90)\n",
    "t.pendown()\n",
    "t.forward(259)\n",
    "t.penup()\n",
    "t.right(180)\n",
    "t.forward(85)\n",
    "t.left(120)\n",
    "t.pendown()\n",
    "t.forward(60)\n",
    "t.right(120)\n",
    "\n",
    "# Draw another Diagonal Line\n",
    "t.penup()\n",
    "t.forward(100)\n",
    "t.right(60)\n",
    "t.pendown()\n",
    "t.forward(60)\n",
    "\n",
    "#Draw a Triangle\n",
    "t.penup()\n",
    "t.goto(5,-20)\n",
    "t.left(60)\n",
    "t.right(90)\n",
    "t.pendown()\n",
    "for i in range(3):\n",
    "    t.forward(70)\n",
    "    t.left(120)\n",
    "t.hideturtle()\n",
    "t.done()\n"
   ]
  },
  {
   "cell_type": "code",
   "execution_count": 14,
   "id": "fa588568",
   "metadata": {},
   "outputs": [],
   "source": []
  },
  {
   "cell_type": "code",
   "execution_count": 5,
   "id": "075545ea",
   "metadata": {},
   "outputs": [],
   "source": []
  },
  {
   "cell_type": "code",
   "execution_count": 9,
   "id": "99488be3",
   "metadata": {},
   "outputs": [],
   "source": []
  },
  {
   "cell_type": "code",
   "execution_count": null,
   "id": "744b1345",
   "metadata": {},
   "outputs": [],
   "source": []
  }
 ],
 "metadata": {
  "kernelspec": {
   "display_name": "Python 3 (ipykernel)",
   "language": "python",
   "name": "python3"
  },
  "language_info": {
   "codemirror_mode": {
    "name": "ipython",
    "version": 3
   },
   "file_extension": ".py",
   "mimetype": "text/x-python",
   "name": "python",
   "nbconvert_exporter": "python",
   "pygments_lexer": "ipython3",
   "version": "3.9.12"
  }
 },
 "nbformat": 4,
 "nbformat_minor": 5
}
