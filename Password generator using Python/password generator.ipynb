{
 "cells": [
  {
   "cell_type": "code",
   "execution_count": 4,
   "id": "cda8d722",
   "metadata": {},
   "outputs": [],
   "source": [
    "from tkinter import *\n",
    "import pyperclip\n",
    "import random\n",
    "\n",
    "root = Tk()\n",
    "root.geometry(\"400x400\")    \n",
    "passstr = StringVar()\n",
    "passlen = IntVar()\n",
    "passlen.set(0)\n",
    "\n",
    "def generate():\n",
    "    pass1 = ['a', 'b', 'c', 'd', 'e', 'f', 'g', 'h', 'i', 'j',\n",
    "            'k', 'l', 'm', 'n', 'o', 'p', 'q', 'r', 's', 't', \n",
    "            'u', 'v', 'w', 'x', 'y', 'z', 'A', 'B', 'C', 'D',\n",
    "            'E', 'F', 'G', 'H', 'I', 'J', 'K', 'L', 'M', 'N',\n",
    "            'O', 'P', 'Q', 'R', 'S', 'T', 'U', 'V', 'W', 'X', \n",
    "            'Y', 'Z', '1', '2', '3', '4', '5', '6', '7', '8', \n",
    "            '9', '0', ' ', '!', '@', '#', '$', '%', '^', '&', \n",
    "            '*', '(', ')']\n",
    "\n",
    "    password = \"\"\n",
    "\n",
    "    for x in range(passlen.get()):\n",
    "        password = password + random.choice(pass1)\n",
    "    passstr.set(password)\n",
    "\n",
    "def copytoclipboard():\n",
    "    random_password = passstr.get()\n",
    "    pyperclip.copy(random_password)\n",
    "\n",
    "Label(root, text=\"Password Generator Application\", font=\"calibri 20 bold\").pack()\n",
    "Label(root, text=\"Enter password length\").pack(pady=3)\n",
    "Entry(root, textvariable=passlen).pack(pady=3)\n",
    "Button(root, text=\"Generate Password\", command=generate).pack(pady=7)\n",
    "Entry(root, textvariable=passstr).pack(pady=3)\n",
    "Button(root, text=\"Copy to clipboard\", command=copytoclipboard).pack()\n",
    "root.mainloop()"
   ]
  },
  {
   "cell_type": "code",
   "execution_count": 2,
   "id": "81e5a8bf",
   "metadata": {},
   "outputs": [
    {
     "name": "stdout",
     "output_type": "stream",
     "text": [
      "Collecting pyperclip\n",
      "  Downloading pyperclip-1.8.2.tar.gz (20 kB)\n",
      "Building wheels for collected packages: pyperclip\n",
      "  Building wheel for pyperclip (setup.py): started\n",
      "  Building wheel for pyperclip (setup.py): finished with status 'done'\n",
      "  Created wheel for pyperclip: filename=pyperclip-1.8.2-py3-none-any.whl size=11142 sha256=2e906a74a0b5a6602d2c7f3dddb0dd7b3a5148afa379c12abf0358e2c0a729d6\n",
      "  Stored in directory: c:\\users\\hp\\appdata\\local\\pip\\cache\\wheels\\0c\\09\\9e\\49e21a6840ef7955b06d47394afef0058f0378c0914e48b8b8\n",
      "Successfully built pyperclip\n",
      "Installing collected packages: pyperclip\n",
      "Successfully installed pyperclip-1.8.2\n",
      "Note: you may need to restart the kernel to use updated packages.\n"
     ]
    }
   ],
   "source": [
    "#pip install pyperclip"
   ]
  },
  {
   "cell_type": "code",
   "execution_count": null,
   "id": "7b6438af",
   "metadata": {},
   "outputs": [],
   "source": []
  }
 ],
 "metadata": {
  "kernelspec": {
   "display_name": "Python 3 (ipykernel)",
   "language": "python",
   "name": "python3"
  },
  "language_info": {
   "codemirror_mode": {
    "name": "ipython",
    "version": 3
   },
   "file_extension": ".py",
   "mimetype": "text/x-python",
   "name": "python",
   "nbconvert_exporter": "python",
   "pygments_lexer": "ipython3",
   "version": "3.9.12"
  }
 },
 "nbformat": 4,
 "nbformat_minor": 5
}
